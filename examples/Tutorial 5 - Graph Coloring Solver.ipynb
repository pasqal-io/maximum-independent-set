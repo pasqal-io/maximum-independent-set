{
 "cells": [
  {
   "cell_type": "markdown",
   "id": "6096a1cc",
   "metadata": {},
   "source": [
    "In this notebook, we are going to implement a graph coloring algorithm based on a MIS solver for a practical problem of sharing a bandwidth of frequencies for a network of antennas."
   ]
  },
  {
   "cell_type": "code",
   "execution_count": null,
   "id": "c4ef25f1",
   "metadata": {},
   "outputs": [],
   "source": [
    "# imports\n",
    "from mis.coloring.coloring import GraphColoringSolver\n",
    "from mis.data.dataloader import DataLoader\n",
    "from pathlib import Path\n",
    "from mis.pipeline.config import SolverConfig\n",
    "from mis.shared.types import MethodType\n",
    "from mis.pipeline.backends import QutipBackend"
   ]
  },
  {
   "cell_type": "markdown",
   "id": "cede614a",
   "metadata": {},
   "source": [
    "## Importing our dataset\n",
    "\n",
    "The practical dataset of interest is the placement of 5G antennas in Paris that can be found in the `antenna_Paris.csv` file. A set of antennas are distributed over the city with a specific coverage range. Therefore, some antennas will be in range of each other."
   ]
  },
  {
   "cell_type": "code",
   "execution_count": null,
   "id": "6c9dfdbd",
   "metadata": {},
   "outputs": [],
   "source": [
    "loader = DataLoader()\n",
    "loader.load_from_csv_coordinates(Path('./datasets/coloring/antenna_Paris.csv'))"
   ]
  },
  {
   "cell_type": "markdown",
   "id": "0fa7a083",
   "metadata": {},
   "source": [
    "## Representing our problem instance\n",
    "We will represent the problem by a graph, such that each node represents an antenna, with an edge between two if they are in the range of each other. We consider that all the antennas have a constant range R, which we will set to $1.2km$."
   ]
  },
  {
   "cell_type": "code",
   "execution_count": null,
   "id": "9ce225a9",
   "metadata": {},
   "outputs": [],
   "source": [
    "instance = loader.build_mis_instance_from_coordinates(antenna_range=1.2)"
   ]
  },
  {
   "cell_type": "markdown",
   "id": "5cf3d747",
   "metadata": {},
   "source": [
    "Let's visualize our dataset :"
   ]
  },
  {
   "cell_type": "code",
   "execution_count": null,
   "id": "a29ee1bf",
   "metadata": {},
   "outputs": [],
   "source": [
    "pos = {i: (loader.coordinates_dataset[i][1], loader.coordinates_dataset[i][0]) for i in range(len(loader.coordinates_dataset))}\n",
    "instance.draw()\n"
   ]
  },
  {
   "cell_type": "markdown",
   "id": "f209d04d",
   "metadata": {},
   "source": [
    "## Solving the Graph Coloring Problem\n",
    "\n",
    "We will use the greedy heuristic algorithm described in [Appendix A](https://arxiv.org/pdf/2301.02637) to find a coloring of the graph using MIS output. \n",
    "\n",
    "The algorithm starts with a set $S$ of all the nodes in the graph, and at each iteration it searches for a maximum independent set of nodes of the subgraph formed by the nodes currently in $S$, colors all of the nodes of the MIS in the same color, then removes them from $S$. The operation is repeated until $S$ is empty.\n"
   ]
  },
  {
   "cell_type": "markdown",
   "id": "525505d4",
   "metadata": {},
   "source": [
    "### 1. Using a classical solver"
   ]
  },
  {
   "cell_type": "code",
   "execution_count": null,
   "id": "cb3177f5",
   "metadata": {},
   "outputs": [],
   "source": [
    "solver = GraphColoringSolver(loader, 1.2, SolverConfig(\n",
    "    method = MethodType.EAGER,\n",
    "    max_iterations=1\n",
    "))\n",
    "solver.solve()\n",
    "solver.visualize_solution()\n",
    "print(solver.colors)   \n",
    "print(f\"Number of colors used: {solver.colors_count}\")"
   ]
  },
  {
   "cell_type": "markdown",
   "id": "de0f984a",
   "metadata": {},
   "source": [
    "### 2. Using the quantum SDK QuTiP"
   ]
  },
  {
   "cell_type": "code",
   "execution_count": null,
   "id": "334e1a05",
   "metadata": {},
   "outputs": [],
   "source": [
    "solver = GraphColoringSolver(loader, 1.2, SolverConfig(\n",
    "    method = MethodType.EAGER,\n",
    "    backend = QutipBackend(),\n",
    "    max_iterations=1\n",
    "))\n",
    "solver.solve()\n",
    "solver.visualize_solution()\n",
    "print(solver.colors)   \n",
    "print(f\"Number of colors used: {solver.colors_count}\")"
   ]
  },
  {
   "cell_type": "code",
   "execution_count": null,
   "id": "b7cee525",
   "metadata": {},
   "outputs": [],
   "source": []
  }
 ],
 "metadata": {
  "kernelspec": {
   "display_name": "venv",
   "language": "python",
   "name": "python3"
  },
  "language_info": {
   "codemirror_mode": {
    "name": "ipython",
    "version": 3
   },
   "file_extension": ".py",
   "mimetype": "text/x-python",
   "name": "python",
   "nbconvert_exporter": "python",
   "pygments_lexer": "ipython3",
   "version": "3.12.10"
  }
 },
 "nbformat": 4,
 "nbformat_minor": 5
}

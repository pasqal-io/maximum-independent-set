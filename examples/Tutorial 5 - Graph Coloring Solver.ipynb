{
 "cells": [
  {
   "cell_type": "markdown",
   "id": "6096a1cc",
   "metadata": {},
   "source": [
    "# Tutorial 5 : Solving a Graph Coloring Problem using a MIS solver\n",
    "\n",
    "In this notebook, we are going to implement a graph coloring algorithm based on a MIS solver for a practical problem of sharing a bandwidth of frequencies for a network of antennas."
   ]
  },
  {
   "cell_type": "code",
   "execution_count": null,
   "id": "c4ef25f1",
   "metadata": {},
   "outputs": [],
   "source": [
    "# imports\n",
    "from mis.coloring import GraphColoringSolver\n",
    "from mis.data import DataLoader\n",
    "from pathlib import Path\n",
    "from mis.pipeline.config import SolverConfig\n",
    "from mis.shared.types import MethodType\n",
    "from mis.pipeline.backends import QutipBackend"
   ]
  },
  {
   "cell_type": "markdown",
   "id": "cede614a",
   "metadata": {},
   "source": [
    "## Importing our dataset\n",
    "\n",
    "The practical dataset of interest is the placement of 5G antennas in Paris that can be found in the `antenna_Paris.csv` file. A set of antennas are distributed over the city with a specific coverage range. Therefore, some antennas will be in range of each other and cannot share the same frequency."
   ]
  },
  {
   "cell_type": "code",
   "execution_count": null,
   "id": "6c9dfdbd",
   "metadata": {},
   "outputs": [],
   "source": [
    "loader = DataLoader()\n",
    "loader.load_from_csv_coordinates(Path('./datasets/coloring/antenna_Paris.csv'))"
   ]
  },
  {
   "cell_type": "markdown",
   "id": "0fa7a083",
   "metadata": {},
   "source": [
    "## Representing our problem instance\n",
    "\n",
    "The first step is to represent the problem by a graph. In this case, each node represents an antenna, with an edge between two if they are in the range of each other. For the sake of simplicity, we will reduce the graph size by considering only antennas within a constant range R, set to 1.2 km."
   ]
  },
  {
   "cell_type": "code",
   "execution_count": null,
   "id": "9ce225a9",
   "metadata": {},
   "outputs": [],
   "source": [
    "instance = loader.build_mis_instance_from_coordinates(antenna_range=1.2)"
   ]
  },
  {
   "cell_type": "markdown",
   "id": "5cf3d747",
   "metadata": {},
   "source": [
    "Let's visualize our dataset :"
   ]
  },
  {
   "cell_type": "code",
   "execution_count": null,
   "id": "a29ee1bf",
   "metadata": {},
   "outputs": [],
   "source": [
    "instance.draw()"
   ]
  },
  {
   "cell_type": "markdown",
   "id": "f209d04d",
   "metadata": {},
   "source": [
    "## Solving the Graph Coloring Problem\n",
    "\n",
    "We will use the greedy heuristic algorithm described in [Appendix A](https://arxiv.org/pdf/2301.02637) to find a coloring of the graph using MIS output. \n",
    "\n",
    "The algorithm starts with a set $S$ of all the nodes in the graph, and at each iteration it searches for a maximum independent set of nodes of the subgraph formed by the nodes currently in $S$, colors all of the nodes of the MIS in the same color, then removes them from $S$. The operation is repeated until $S$ is empty.\n"
   ]
  },
  {
   "cell_type": "markdown",
   "id": "525505d4",
   "metadata": {},
   "source": [
    "### Using a classical solver\n",
    "We will first solve the coloring problem using the standard classical and heuristic [MIS solver in Networkx](https://networkx.org/documentation/stable/reference/algorithms/generated/networkx.algorithms.approximation.clique.maximum_independent_set.html). As it is heuristic and non-deterministic, this solver does not guarantee an optimal solution."
   ]
  },
  {
   "cell_type": "code",
   "execution_count": null,
   "id": "cb3177f5",
   "metadata": {},
   "outputs": [],
   "source": [
    "solver = GraphColoringSolver(loader, 1.2, SolverConfig(\n",
    "    method = MethodType.EAGER,\n",
    "    max_iterations=1\n",
    "))\n",
    "solver.solve()\n",
    "solver.visualize_solution()\n",
    "print(solver.colors)   \n",
    "print(f\"Number of colors used: {solver.colors_count}\")"
   ]
  },
  {
   "cell_type": "markdown",
   "id": "d753e7ee",
   "metadata": {},
   "source": [
    "The array `solver.colors` represents the group assigned to each antenna by the algorithm, such that all the antennas of the same group can share the same frequency without interfering with each other."
   ]
  },
  {
   "cell_type": "markdown",
   "id": "de0f984a",
   "metadata": {},
   "source": [
    "### Using the quantum SDK QuTiP\n",
    "We will now use a quantum solver to solve the MIS instances used by our coloring algorithm, please refer to tutorial 1a for more details about the solver. "
   ]
  },
  {
   "cell_type": "code",
   "execution_count": null,
   "id": "334e1a05",
   "metadata": {},
   "outputs": [],
   "source": [
    "solver = GraphColoringSolver(loader, 1.2, SolverConfig(\n",
    "    method = MethodType.EAGER,\n",
    "    backend = QutipBackend(),\n",
    "    max_iterations=1\n",
    "))\n",
    "solver.solve()\n",
    "solver.visualize_solution()\n",
    "print(solver.colors)   \n",
    "print(f\"Number of colors used: {solver.colors_count}\")"
   ]
  }
 ],
 "metadata": {
  "kernelspec": {
   "display_name": "venv",
   "language": "python",
   "name": "python3"
  },
  "language_info": {
   "codemirror_mode": {
    "name": "ipython",
    "version": 3
   },
   "file_extension": ".py",
   "mimetype": "text/x-python",
   "name": "python",
   "nbconvert_exporter": "python",
   "pygments_lexer": "ipython3",
   "version": "3.12.10"
  }
 },
 "nbformat": 4,
 "nbformat_minor": 5
}

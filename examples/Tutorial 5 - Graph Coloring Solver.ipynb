{
 "cells": [
  {
   "cell_type": "markdown",
   "id": "6096a1cc",
   "metadata": {},
   "source": [
    "# Tutorial 5 : Solving a Graph Coloring Problem using a MIS solver\n",
    "\n",
    "In this notebook, we are going to implement a graph coloring algorithm based on a MIS solver for a practical problem of sharing a bandwidth of frequencies for a network of antennas."
   ]
  },
  {
   "cell_type": "code",
   "execution_count": null,
   "id": "c4ef25f1",
   "metadata": {},
   "outputs": [],
   "source": [
    "# imports\n",
    "from mis.coloring import GraphColoringSolver\n",
    "from mis.data import DataLoader\n",
    "from pathlib import Path\n",
    "from mis.pipeline.config import SolverConfig\n",
    "from mis.shared.types import MethodType\n",
    "from mis.pipeline.backends import QutipBackend"
   ]
  },
  {
   "cell_type": "markdown",
   "id": "cede614a",
   "metadata": {},
   "source": [
    "## Importing our dataset\n",
    "\n",
    "The practical dataset of interest is the placement of 5G antennas in Paris that can be found in the `antenna_Paris.csv` file. A set of antennas are distributed over the city with a specific coverage range. Therefore, some antennas will be in range of each other and cannot share the same frequency."
   ]
  },
  {
   "cell_type": "code",
   "execution_count": null,
   "id": "6c9dfdbd",
   "metadata": {},
   "outputs": [],
   "source": [
    "loader = DataLoader()\n",
    "loader.load_from_csv_coordinates(Path('./datasets/coloring/antenna_Paris.csv'))"
   ]
  },
  {
   "cell_type": "markdown",
   "id": "0fa7a083",
   "metadata": {},
   "source": [
    "## Representing our problem instance\n",
    "\n",
    "The first step is to represent the problem by a graph. In this case, each node represents an antenna, with an edge between two if they are in the range of each other. For the sake of simplicity, we will reduce the graph size by considering only antennas within a constant range R, set to 1.2 km."
   ]
  },
  {
   "cell_type": "code",
   "execution_count": null,
   "id": "9ce225a9",
   "metadata": {},
   "outputs": [],
   "source": [
    "instance = loader.build_mis_instance_from_coordinates(antenna_range=1.2)"
   ]
  },
  {
   "cell_type": "markdown",
   "id": "5cf3d747",
   "metadata": {},
   "source": [
    "Let's visualize our dataset :"
   ]
  },
  {
   "cell_type": "code",
   "execution_count": null,
   "id": "a29ee1bf",
   "metadata": {},
   "outputs": [],
   "source": [
    "instance.draw()"
   ]
  },
  {
   "cell_type": "markdown",
   "id": "f209d04d",
   "metadata": {},
   "source": [
    "## Solving the Graph Coloring Problem\n",
    "\n",
    "We will use the greedy heuristic algorithm described in [Appendix A](https://arxiv.org/pdf/2301.02637) to find a coloring of the graph using MIS output. \n",
    "\n",
    "The algorithm starts with a set $S$ of all the nodes in the graph, and at each iteration it searches for a maximum independent set of nodes of the subgraph formed by the nodes currently in $S$, colors all of the nodes of the MIS in the same color, then removes them from $S$. The operation is repeated until $S$ is empty.\n"
   ]
  },
  {
   "cell_type": "markdown",
   "id": "525505d4",
   "metadata": {},
   "source": [
    "### Using a classical solver\n",
    "We will first solve the coloring problem using the standard classical and heuristic [MIS solver in Networkx](https://networkx.org/documentation/stable/reference/algorithms/generated/networkx.algorithms.approximation.clique.maximum_independent_set.html). As it is heuristic and non-deterministic, this solver does not guarantee an optimal solution."
   ]
  },
  {
   "cell_type": "code",
   "execution_count": null,
   "id": "cb3177f5",
   "metadata": {},
   "outputs": [],
   "source": [
    "from mis.pipeline.kernelization import Kernelization\n",
    "\n",
    "\n",
    "solver = GraphColoringSolver(loader, 1.2, SolverConfig(\n",
    "    method = MethodType.EAGER,\n",
    "    max_iterations=1,\n",
    "))\n",
    "solver.solve()\n",
    "solver.visualize_solution()\n",
    "print(solver.colors)   \n",
    "print(f\"Number of colors used: {solver.colors_count}\")"
   ]
  },
  {
   "cell_type": "markdown",
   "id": "d753e7ee",
   "metadata": {},
   "source": [
    "The array `solver.colors` represents the group assigned to each antenna by the algorithm, such that all the antennas of the same group can share the same frequency without interfering with each other."
   ]
  },
  {
   "cell_type": "markdown",
   "id": "de0f984a",
   "metadata": {},
   "source": [
    "### Using the quantum SDK QuTiP\n",
    "We will now use a quantum solver to solve the MIS instances used by our coloring algorithm, please refer to tutorial 1a for more details about the solver. "
   ]
  },
  {
   "cell_type": "code",
   "execution_count": null,
   "id": "334e1a05",
   "metadata": {},
   "outputs": [],
   "source": [
    "from mis.pipeline.maximization import Maximization\n",
    "\n",
    "\n",
    "solver = GraphColoringSolver(loader, 1.2, SolverConfig(\n",
    "    method = MethodType.EAGER,\n",
    "    backend = QutipBackend(),\n",
    "    max_iterations=1\n",
    "))\n",
    "solver.solve()\n",
    "solver.visualize_solution()\n",
    "print(solver.colors)   \n",
    "print(f\"Number of colors used: {solver.colors_count}\")"
   ]
  },
  {
   "cell_type": "markdown",
   "id": "b1e5e906",
   "metadata": {},
   "source": [
    "### Applying Pre and Post Processors\n",
    "\n",
    "Performs optimizations before and after running the Quantum solver in order to enhance the quality of the results given by the algorithm."
   ]
  },
  {
   "cell_type": "code",
   "execution_count": null,
   "id": "c1367055",
   "metadata": {},
   "outputs": [],
   "source": [
    "\n",
    "\n",
    "solver = GraphColoringSolver(loader, 1.2, SolverConfig(\n",
    "    method = MethodType.EAGER,\n",
    "    backend = QutipBackend(),\n",
    "    max_iterations = 1,\n",
    "    preprocessor = lambda graph: Kernelization(graph),\n",
    "    postprocessor = lambda : Maximization()\n",
    "))\n",
    "solver.solve()\n",
    "solver.visualize_solution()\n",
    "print(solver.colors)   \n",
    "print(f\"Number of colors used: {solver.colors_count}\")"
   ]
  },
  {
   "cell_type": "markdown",
   "id": "7b4e819e",
   "metadata": {},
   "source": [
    "## Enhancing our algorithm\n",
    "\n",
    "We now explore further improvements to the MIS-based coloring algorithm.\n",
    "\n",
    "### Color Reduction\n",
    "\n",
    "Note that the approach we are using is a greedy heuristic algorithm, that does not necessarily give the optimal solution, let's look at an example where it is more obvious."
   ]
  },
  {
   "cell_type": "code",
   "execution_count": null,
   "id": "a250372b",
   "metadata": {},
   "outputs": [],
   "source": [
    "loader_2 = DataLoader()\n",
    "loader_2.load_from_csv_coordinates(Path('./datasets/coloring/counterexample_1.csv'))\n",
    "instance = loader_2.build_mis_instance_from_coordinates(antenna_range=112)\n",
    "instance.draw()"
   ]
  },
  {
   "cell_type": "code",
   "execution_count": null,
   "id": "95441864",
   "metadata": {},
   "outputs": [],
   "source": [
    "solver_2 = GraphColoringSolver(loader_2, 112, SolverConfig(\n",
    "    method = MethodType.EAGER,\n",
    "    max_iterations=1\n",
    "))\n",
    "solver_2.solve()\n",
    "solver_2.visualize_solution()\n",
    "print(solver_2.colors)   \n",
    "print(f\"Number of colors used: {solver_2.colors_count}\")"
   ]
  },
  {
   "cell_type": "markdown",
   "id": "c2c41d06",
   "metadata": {},
   "source": [
    "Actually, the previous graph is [bipartite](https://en.wikipedia.org/wiki/Bipartite_graph) as it has no odd cycles, hence allowing a coloring with only two colors. It follows that our previous coloring is not optimal. We can actually improve the result of the solver using some post-processing, which involves trying to recolor every antenna of some color with an already existing colors, and if succesful, will reduce the numeber of colors."
   ]
  },
  {
   "cell_type": "code",
   "execution_count": null,
   "id": "5379883f",
   "metadata": {},
   "outputs": [],
   "source": [
    "solver_2.reduce_colors()\n",
    "solver_2.visualize_solution()\n",
    "print(solver_2.colors)   \n",
    "print(f\"Number of colors used: {solver_2.colors_count}\")"
   ]
  },
  {
   "cell_type": "markdown",
   "id": "2c4adafd",
   "metadata": {},
   "source": [
    "It seems that this approach successfully worked in this case, what about our original dataset ?"
   ]
  },
  {
   "cell_type": "code",
   "execution_count": null,
   "id": "0c09bf68",
   "metadata": {},
   "outputs": [],
   "source": [
    "solver.reduce_colors()\n",
    "solver.visualize_solution()\n",
    "print(solver.colors)   \n",
    "print(f\"Number of colors used: {solver.colors_count}\")"
   ]
  },
  {
   "cell_type": "markdown",
   "id": "8496459f",
   "metadata": {},
   "source": [
    "We can see that it worked, reducing indeed the total number of colors to 8."
   ]
  },
  {
   "cell_type": "markdown",
   "id": "4e37c00c",
   "metadata": {},
   "source": [
    "### Node Degree Segmentation\n",
    "\n",
    "Let's try to improve more the algorithm, by preprocessing the graph.\n",
    "We first split the antennas into two groups, those with many antennas in the their range, and those with less. More formally, we will after fixing a threshold, split the nodes of the graph those with a degree higher than the threshold, and the others, then solve the coloring problem on each set, and finally join the results with the `reduce_colors` method."
   ]
  },
  {
   "cell_type": "code",
   "execution_count": null,
   "id": "34a88367",
   "metadata": {},
   "outputs": [],
   "source": [
    "solver_3 = GraphColoringSolver(loader, 1.2, SolverConfig(\n",
    "    method = MethodType.EAGER,\n",
    "    max_iterations=1\n",
    "))\n",
    "sets = solver_3.split_antennas_by_degree(2) # setting the threshold to 2\n",
    "solver_3.solve(antennas=sets[0])\n",
    "solver_3.solve(antennas=sets[1], is_second_coloring=True)\n",
    "solver_3.reduce_colors()\n",
    "solver_3.visualize_solution()\n",
    "print(solver_3.colors)   \n",
    "print(f\"Number of colors used: {solver_3.colors_count}\")\n",
    "print(solver_3.check_solution())"
   ]
  }
 ],
 "metadata": {
  "kernelspec": {
   "display_name": "venv",
   "language": "python",
   "name": "python3"
  },
  "language_info": {
   "codemirror_mode": {
    "name": "ipython",
    "version": 3
   },
   "file_extension": ".py",
   "mimetype": "text/x-python",
   "name": "python",
   "nbconvert_exporter": "python",
   "pygments_lexer": "ipython3",
   "version": "3.12.10"
  }
 },
 "nbformat": 4,
 "nbformat_minor": 5
}

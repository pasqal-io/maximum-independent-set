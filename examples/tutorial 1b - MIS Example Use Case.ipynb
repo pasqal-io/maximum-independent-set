{
 "cells": [
  {
   "cell_type": "markdown",
   "metadata": {},
   "source": [
    "# Tutorial 1b - MIS Example Use case"
   ]
  },
  {
   "cell_type": "markdown",
   "metadata": {},
   "source": [
    "Draw inspiration from this: youtube.com/watch?v=safEBBbAAxE"
   ]
  },
  {
   "cell_type": "markdown",
   "metadata": {},
   "source": [
    "## From the problem to MIS\n",
    "\n",
    "TODO: Load dataset representing satellites and constraints, e.g. if a satellite is on orbit X, it cannot be on orbit Y, if a satellite wishes to photograph city A, it must be on orbit X, two satellites cannot be on the same orbit etc.\n",
    "\n",
    "TODO: Convert to MIS"
   ]
  },
  {
   "cell_type": "markdown",
   "metadata": {},
   "source": [
    "## Solve with MIS\n",
    "\n",
    "As in tutorial 1 (in fact, we probably want to merge this with tutorial 1a)"
   ]
  },
  {
   "cell_type": "markdown",
   "metadata": {},
   "source": [
    "# Show solution\n",
    "\n",
    "TODO"
   ]
  }
 ],
 "metadata": {
  "kernelspec": {
   "display_name": "Python 3 (ipykernel)",
   "language": "python",
   "name": "python3"
  },
  "language_info": {
   "codemirror_mode": {
    "name": "ipython",
    "version": 3
   },
   "file_extension": ".py",
   "mimetype": "text/x-python",
   "name": "python",
   "nbconvert_exporter": "python",
   "pygments_lexer": "ipython3",
   "version": "3.12.7"
  }
 },
 "nbformat": 4,
 "nbformat_minor": 4
}

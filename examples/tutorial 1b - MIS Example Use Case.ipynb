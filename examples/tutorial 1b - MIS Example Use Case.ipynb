{
 "cells": [
  {
   "cell_type": "markdown",
   "metadata": {},
   "source": [
    "# MIS Use case"
   ]
  },
  {
   "cell_type": "markdown",
   "metadata": {},
   "source": [
    "Draw inspiration from this: youtube.com/watch?v=safEBBbAAxE"
   ]
  },
  {
   "cell_type": "markdown",
   "metadata": {},
   "source": [
    "## From the problem to MIS\n",
    "\n",
    "TODO: Load dataset representing satellites and constraints, e.g. if a satellite is on orbit X, it cannot be on orbit Y, if a satellite wishes to photograph city A, it must be on orbit X, etc.\n",
    "\n",
    "TODO: Convert to MIS"
   ]
  },
  {
   "cell_type": "markdown",
   "metadata": {},
   "source": [
    "## Solve with MIS\n",
    "\n",
    "As in tutorial 1 (in fact, we probably want to merge this with tutorial 1a)"
   ]
  },
  {
   "cell_type": "markdown",
   "metadata": {},
   "source": [
    "# Show solution\n",
    "\n",
    "TODO"
   ]
  }
 ],
 "metadata": {
  "language_info": {
   "name": "python"
  }
 },
 "nbformat": 4,
 "nbformat_minor": 2
}

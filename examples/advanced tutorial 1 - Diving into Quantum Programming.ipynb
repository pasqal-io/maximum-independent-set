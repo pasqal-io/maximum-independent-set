{
 "cells": [
  {
   "cell_type": "markdown",
   "id": "9810a41c",
   "metadata": {},
   "source": [
    "# Tutorial 5 - Advanced quantum programming\n",
    "\n",
    "Note: This tutorial is designed for users who already understand quantum programming using the `QoolQit` library which uses the `pulser` library as a dependency. For more details on `QoolQit`, see [its tutorial](https://pasqal-io.github.io/qoolqit/latest/). For more details on `pulser`, see [its tutorial](https://pulser.readthedocs.io).\n",
    "\n",
    "By design, a quantum solver is composed of two main quantum components for solving a problem:\n",
    "\n",
    "- an embedder,  i.e. a mechanism used to customize the layout of atoms on the quantum device.\n",
    "- a drive shaper, i.e. a mechanism used to customize the drive Hamiltonian to which the neutral atoms are subjected during the execution of the quantum algorithm.\n",
    "\n",
    "\n",
    "These can be specified in the `SolverConfig`. Most users can use the default embedders and drive shapers provided with this library. However, if you wish to alter the behavior of the solver, perhaps for the sake of research, debugging or learning, you can implement your own embedders or drive shapers. This tutorial dives into currently available components, as well as designing custom ones.\n",
    "\n",
    "## Embedder\n",
    "\n",
    "### Default\n",
    "\n",
    "When instantiating a `SolverConfig`, a default embedder is already made available. To access the resulting embedding from a solver, simply call the `embedding` method as follows:"
   ]
  },
  {
   "cell_type": "code",
   "execution_count": null,
   "id": "4fa2421c",
   "metadata": {},
   "outputs": [],
   "source": [
    "from mis import MISSolver, MISInstance, SolverConfig, LocalEmulator\n",
    "\n",
    "\n",
    "from networkx import erdos_renyi_graph\n",
    "\n",
    "# User can fix the seed for reproducibility \n",
    "seed = 0\n",
    "graph = erdos_renyi_graph(n=25, p=0.4, seed=seed)\n",
    "instance = MISInstance(graph)\n",
    "\n",
    "qutip_config = LocalEmulator()\n",
    "\n",
    "config = SolverConfig(backend = qutip_config)\n",
    "solver = MISSolver(instance, config)\n",
    "\n",
    "\n",
    "geometry = solver.embedding()\n",
    "\n",
    "# draw the register\n",
    "# geometry.draw()"
   ]
  },
  {
   "cell_type": "markdown",
   "id": "2faef28e",
   "metadata": {},
   "source": [
    "### Custom\n",
    "\n",
    "To design our own embedding method, we need to define a class inhereting from `mis.pipeline.embedder.BaseEmbedder` and implement an `embed` method as follows: "
   ]
  },
  {
   "cell_type": "code",
   "execution_count": null,
   "id": "531ccd08",
   "metadata": {},
   "outputs": [],
   "source": [
    "from mis.pipeline.embedder import BaseEmbedder\n",
    "from qoolqit import Register\n",
    "from mis.pipeline.layout import Layout\n",
    "\n",
    "class DefaultEmbedder(BaseEmbedder):\n",
    "    \"\"\" The DefaultEmbedder class available in mis.\n",
    "    \"\"\"\n",
    "\n",
    "    def embed(self, instance: MISInstance, config: SolverConfig) -> Register:\n",
    "        device = config.device\n",
    "        assert device is not None\n",
    "\n",
    "        # Use Layout helper to get rescaled coordinates and interaction graph\n",
    "        layout = Layout.from_device(data=instance, device=device._device)\n",
    "\n",
    "        # Finally, prepare register.\n",
    "        conversion_factor = device.converter.factors[2]\n",
    "        return Register(\n",
    "            qubits={f\"q{node}\": pos / conversion_factor for (node, pos) in layout.coords.items()}\n",
    "        )\n",
    "\n",
    "custom_config = SolverConfig(backend = qutip_config, embedder=DefaultEmbedder())"
   ]
  },
  {
   "cell_type": "code",
   "execution_count": null,
   "id": "e5c14f39-6fab-42ae-bc95-3ba4bb1a34ff",
   "metadata": {},
   "outputs": [],
   "source": [
    "custom_solver = MISSolver(instance, custom_config)\n",
    "default_geometry = custom_solver.embedding()\n",
    "\n",
    "# draw the register\n",
    "default_geometry.draw()"
   ]
  },
  {
   "cell_type": "markdown",
   "id": "02d2d67a",
   "metadata": {},
   "source": [
    "## Drive shaper\n",
    "\n",
    "### Default\n",
    "\n",
    "When instantiating a `SolverConfig`, a default drive shaper is already made available. To access the resulting drive from a solver, simply call the `drive` method as follows:"
   ]
  },
  {
   "cell_type": "code",
   "execution_count": null,
   "id": "482fbeca",
   "metadata": {},
   "outputs": [],
   "source": [
    "default_drive = solver.drive(solver.embedding())\n",
    "default_drive"
   ]
  },
  {
   "cell_type": "markdown",
   "id": "86ffefeb-5d29-4b4f-8c13-545f8dd28b83",
   "metadata": {
    "vscode": {
     "languageId": "plaintext"
    }
   },
   "source": [
    "### Custom\n",
    "\n",
    "To design our own pulse shaping method, we need to define a class inhereting from `mis.pipeline.pulse.BasePulseShaper` and implement a `pulse` method and a `detuning` method as follows: "
   ]
  },
  {
   "cell_type": "code",
   "execution_count": null,
   "id": "94478152-3640-4719-a37b-df0aa508084e",
   "metadata": {},
   "outputs": [],
   "source": [
    "import numpy as np\n",
    "\n",
    "from mis.pipeline.drive import BaseDriveShaper, DriveParameters\n",
    "from qoolqit import Drive, Constant, WeightedDetuning\n",
    "\n",
    "class ConstantDriveShaper(BaseDriveShaper):\n",
    "    \"\"\"\n",
    "    We simply return a constant pulse.\n",
    "    \"\"\"\n",
    "\n",
    "    def drive(self, config: SolverConfig, register: Register, instance: MISInstance) -> Drive:\n",
    "        TIME, _, _ = config.device.converter.factors\n",
    "        # for users more used to pulser, a conversion should be made to match QoolQit\n",
    "        return Constant(duration=1000 / TIME, value=np.pi)\n",
    "    \n",
    "    def weighted_detuning(\n",
    "        self,\n",
    "        config: SolverConfig,\n",
    "        register: Register,\n",
    "        instance: MISInstance,\n",
    "        parameters: DriveParameters,\n",
    "    ) -> list[WeightedDetuning] | None:\n",
    "        return None"
   ]
  },
  {
   "cell_type": "code",
   "execution_count": null,
   "id": "61557aab-6bfd-41b1-b91e-061a6e404dc5",
   "metadata": {},
   "outputs": [],
   "source": [
    "constant_drive_config = SolverConfig(backend = qutip_config, drive_shaper=ConstantDriveShaper())\n",
    "constant_drive_solver = MISSolver(instance, constant_drive_config)\n",
    "constant_drive = constant_drive_solver.pulse(constant_drive_solver.embedding())\n",
    "constant_drive"
   ]
  },
  {
   "cell_type": "code",
   "execution_count": null,
   "id": "282fe41f-7d8b-4aaa-9b67-e85169aa4fb3",
   "metadata": {},
   "outputs": [],
   "source": []
  }
 ],
 "metadata": {
  "kernelspec": {
   "display_name": "Python 3",
   "language": "python",
   "name": "python3"
  },
  "language_info": {
   "codemirror_mode": {
    "name": "ipython",
    "version": 3
   },
   "file_extension": ".py",
   "mimetype": "text/x-python",
   "name": "python",
   "nbconvert_exporter": "python",
   "pygments_lexer": "ipython3",
   "version": "3.10.16"
  }
 },
 "nbformat": 4,
 "nbformat_minor": 5
}

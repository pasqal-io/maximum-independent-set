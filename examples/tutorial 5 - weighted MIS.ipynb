{
 "cells": [
  {
   "cell_type": "markdown",
   "metadata": {},
   "source": [
    "# Tutorial 5 - Using a Quantum Device to solve Weighted MIS\n"
   ]
  },
  {
   "cell_type": "markdown",
   "metadata": {},
   "source": [
    "The Weighted Maximum Independent Set problem (WMIS) is a variant of MIS in which some nodes are given priorities.\n",
    "\n",
    "Just as MIS, there is currently no known polynomial-time algorithm to solve WMIS for general graphs on classical (non-quantum) devices. Consequently, in practice, finding an exact solution for large graphs is generally not possible due to time and hardware limitations. For this reason, most applications of WMIS must satisfy themselves with finding approximate solutions. As it turns out, in some cases, even finding approximate solutions is considered hard. For these reasons, there is high interest in solving WMIS on Quantum Devices.\n",
    "\n",
    "This library does just that: compile a WMIS into a form suited for execution on quantum hardware. However, by opposition to MIS, as of this writing, Quantum Devices that can execute a compiled WMIS remain experimental and generally not available outside of research laboratories.\n",
    "\n",
    "In this tutorial, we will walk you through executing an instance of WMIS, using a quantum method on a quantum emulator."
   ]
  },
  {
   "cell_type": "markdown",
   "metadata": {},
   "source": [
    "## Defining the problem\n",
    "\n",
    "We wish to install two Python libraries called `mygreatlib` and `anotherlib`. However, there are conflicts between these Python libraries and some versions of Python, so we need to also pick the most modern version of Python that is compatible with both libraries."
   ]
  },
  {
   "cell_type": "code",
   "execution_count": null,
   "metadata": {},
   "outputs": [],
   "source": [
    "import math\n",
    "import networkx as nx\n",
    "\n",
    "PYTHON_VERSIONS = [\"Python 3.8\", \"Python 3.9\", \"Python 3.10\", \"Python 3.11\", \"Python 3.12\", \"Python 3.13\"]\n",
    "\n",
    "COMPATIBILITY_MY_GREAT_LIB = [\"Python 3.9\", \"Python 3.11\", \"Python 3.13\"]\n",
    "COMPATIBILITY_ANOTHER_LIB = [\"Python 3.10\", \"Python 3.11\", \"Python 3.12\", \"Python 3.13\"]\n",
    "\n",
    "# Define our graph.\n",
    "graph = nx.Graph()\n",
    "# Each node represents something we may install:\n",
    "# - the libraries\n",
    "graph.add_nodes_from([\"mygreatlib\", \"anotherlib\"])\n",
    "# - Python\n",
    "graph.add_nodes_from(PYTHON_VERSIONS)\n",
    "\n",
    "# One may only install one version of Python at a time\n",
    "for (i, version) in enumerate(PYTHON_VERSIONS):\n",
    "    for other_version in PYTHON_VERSIONS[i+1:]:\n",
    "        graph.add_edge(version, other_version)\n",
    "\n",
    "# Our libraries are only compatible with some versions of Python\n",
    "for version in PYTHON_VERSIONS:\n",
    "    if version not in COMPATIBILITY_MY_GREAT_LIB:\n",
    "        graph.add_edge(\"mygreatlib\", version)\n",
    "    if version not in COMPATIBILITY_ANOTHER_LIB:\n",
    "        graph.add_edge(\"anotherlib\", version)\n",
    "\n",
    "# We'd like the most recent version of Python that matches all criteria,\n",
    "# so let's give a higher priority to more recent versions of Python.\n",
    "#\n",
    "# We do this by setting attribute `weight` of the node.\n",
    "for (i, version) in enumerate(PYTHON_VERSIONS):\n",
    "    graph.nodes[version][\"weight\"] = 1 + math.log(i + 1)\n",
    "\n",
    "# Nodes that do not have an explicit weight are impliclitly set to `1.0`."
   ]
  },
  {
   "cell_type": "code",
   "execution_count": null,
   "metadata": {},
   "outputs": [],
   "source": [
    "from mis import MISInstance\n",
    "instance = MISInstance(graph)\n",
    "instance.draw()"
   ]
  },
  {
   "cell_type": "markdown",
   "metadata": {},
   "source": [
    "## Solving the problem\n",
    "\n",
    "We use the same `solver` as in tutorial 1.\n",
    "\n",
    "The only difference is that we pass `weighting = Weighting.WEIGHTED` to instruct the solver to solve the Weighted MIS problem, by opposition to the regular MIS problem."
   ]
  },
  {
   "cell_type": "code",
   "execution_count": null,
   "metadata": {},
   "outputs": [],
   "source": [
    "from mis import LocalEmulator, SolverConfig, Weighting, MISSolver\n",
    "\n",
    "\n",
    "solver_config = SolverConfig(\n",
    "    # Use the QuTIP backend.\n",
    "    backend = LocalEmulator(),\n",
    "    # Instruct the solver to use the weights\n",
    "    weighting = Weighting.WEIGHTED,\n",
    "    # Perform up to 10 quantum measures.\n",
    "    max_iterations=10\n",
    ")\n",
    "\n",
    "# Run the solver\n",
    "solver = MISSolver(instance, solver_config)\n",
    "solutions = solver.solve()\n",
    "\n",
    "# Display results\n",
    "print(\"MIS solution:\", solutions[0].nodes)\n",
    "print(\"Solution frequency:\", solutions[0].frequency)\n",
    "print(\"Solution size:\", solutions[0].size)\n",
    "solutions[0].draw()"
   ]
  },
  {
   "cell_type": "markdown",
   "metadata": {},
   "source": [
    "...and that's it!\n",
    "\n",
    "Normally, the above solution should be Python 3.13 + anotherlib + mygreatlib. Since MWIS is non-deterministic, as all quantum algorithms, there is a small chance that it could display another solution, with Python 3.11 instead of Python 3.13.\n",
    "\n",
    "Weighted MIS may also be solved using a Greedy MIS solver, as in tutorial 2."
   ]
  },
  {
   "cell_type": "markdown",
   "metadata": {},
   "source": [
    "## Difference with MIS\n",
    "\n",
    "Formally, the difference between MIS and wMIS is that MIS maximizes the number of nodes in the solution, while wMIS maximizes the total weight of nodes in the solution, where each node has a weight of `1.0` if no `weight` is specified.\n",
    "\n",
    "This means that wMIS can return a solution that is smaller (in number of nodes) than MIS.\n",
    "\n",
    "For instance, we could de-prioritize `anotherlib` by giving it a weight < 0."
   ]
  },
  {
   "cell_type": "code",
   "execution_count": null,
   "metadata": {},
   "outputs": [],
   "source": [
    "graph.nodes[\"anotherlib\"][\"weight\"] = -1.0\n",
    "\n",
    "instance = MISInstance(graph)\n",
    "\n",
    "# Run the solver\n",
    "solver = MISSolver(instance, solver_config)\n",
    "solutions = solver.solve()\n",
    "\n",
    "# Display results\n",
    "print(\"MIS solution:\", solutions[0].nodes)\n",
    "print(\"Solution frequency:\", solutions[0].frequency)\n",
    "print(\"Solution size:\", solutions[0].size)\n",
    "solutions[0].draw()"
   ]
  },
  {
   "cell_type": "markdown",
   "metadata": {},
   "source": [
    "...or we could make using Python 3.8 more important than the libraries"
   ]
  },
  {
   "cell_type": "code",
   "execution_count": null,
   "metadata": {},
   "outputs": [],
   "source": [
    "graph.nodes[\"anotherlib\"][\"weight\"] = 1.0 # Restore `anotherlib` to its default priority.\n",
    "graph.nodes[\"Python 3.8\"][\"weight\"] = 100\n",
    "\n",
    "instance = MISInstance(graph)\n",
    "\n",
    "# Run the solver\n",
    "solver = MISSolver(instance, solver_config)\n",
    "solutions = solver.solve()\n",
    "\n",
    "# Display results\n",
    "print(\"MIS solution:\", solutions[0].nodes)\n",
    "print(\"Solution frequency:\", solutions[0].frequency)\n",
    "print(\"Solution size:\", solutions[0].size)\n",
    "solutions[0].draw()"
   ]
  },
  {
   "cell_type": "markdown",
   "metadata": {},
   "source": [
    "## Going further\n",
    "\n",
    "\n",
    "If you're interested in understanding how things work behind the hood, we have written up an in-depth tutorial on how to manipulate cold atoms and laser pulses to solve this problem: https://pulser.readthedocs.io/en/stable/tutorials/mwis.html"
   ]
  }
 ],
 "metadata": {
  "kernelspec": {
   "display_name": "maximum-independent-set",
   "language": "python",
   "name": "python3"
  },
  "language_info": {
   "codemirror_mode": {
    "name": "ipython",
    "version": 3
   },
   "file_extension": ".py",
   "mimetype": "text/x-python",
   "name": "python",
   "nbconvert_exporter": "python",
   "pygments_lexer": "ipython3",
   "version": "3.12.3"
  }
 },
 "nbformat": 4,
 "nbformat_minor": 2
}

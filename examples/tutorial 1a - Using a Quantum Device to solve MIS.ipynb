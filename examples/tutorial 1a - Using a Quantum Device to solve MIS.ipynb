{
 "cells": [
  {
   "cell_type": "markdown",
   "metadata": {},
   "source": [
    "# MIS High level"
   ]
  },
  {
   "cell_type": "code",
   "execution_count": null,
   "metadata": {},
   "outputs": [],
   "source": [
    "import networkx as nx\n",
    "\n",
    "# Create a simple triangle graph\n",
    "graph = nx.Graph()\n",
    "graph.add_edges_from([(0, 1), (0, 2)])"
   ]
  },
  {
   "cell_type": "code",
   "execution_count": null,
   "metadata": {},
   "outputs": [],
   "source": [
    "\n",
    "from mis.shared.types import MISInstance\n",
    "from mis.pipeline.config import SolverConfig\n",
    "from mis import MISSolver"
   ]
  },
  {
   "cell_type": "markdown",
   "metadata": {},
   "source": [
    "Solve using the configuration without quantum"
   ]
  },
  {
   "cell_type": "code",
   "execution_count": null,
   "metadata": {},
   "outputs": [],
   "source": [
    "\n",
    "# Define classical solver configuration\n",
    "from mis.shared.types import MethodType\n",
    "\n",
    "\n",
    "config = SolverConfig(\n",
    "    method = MethodType.EAGER,\n",
    "    max_iterations=1\n",
    ")\n",
    "\n",
    "# Create the MIS instance\n",
    "instance = MISInstance(graph)\n",
    "\n",
    "\n",
    "# Run the solver\n",
    "solver = MISSolver(instance, config)\n",
    "solutions = solver.solve().result()\n",
    "\n",
    "# Display results\n",
    "print(\"MIS solution:\", solutions[0].nodes)\n",
    "print(\"Solution cost:\", solutions[0].energy)"
   ]
  },
  {
   "cell_type": "markdown",
   "metadata": {},
   "source": [
    "Solve using the configuration with QTip"
   ]
  },
  {
   "cell_type": "code",
   "execution_count": null,
   "metadata": {},
   "outputs": [],
   "source": [
    "from mis.pipeline.backends import QutipBackend\n",
    "\n",
    "\n",
    "config = SolverConfig(\n",
    "    method = MethodType.EAGER,\n",
    "    backend = QutipBackend(),\n",
    "    max_iterations=1\n",
    ")\n",
    "\n",
    "# Create the MIS instance\n",
    "instance = MISInstance(graph)\n",
    "\n",
    "\n",
    "# Run the solver\n",
    "solver = MISSolver(instance, config)\n",
    "solutions = solver.solve().result()\n",
    "\n",
    "# Display results\n",
    "print(\"MIS solution:\", solutions[0].nodes)\n",
    "print(\"Solution cost:\", solutions[0].energy)"
   ]
  },
  {
   "cell_type": "markdown",
   "metadata": {},
   "source": [
    "Solve using Remote QPU backend "
   ]
  },
  {
   "cell_type": "code",
   "execution_count": null,
   "metadata": {},
   "outputs": [],
   "source": [
    "from mis.pipeline.backends import RemoteQPUBackend\n",
    "\n",
    "USERNAME=\"username\"\n",
    "PROJECT_ID=\"123\"\n",
    "PASSWORD=None\n",
    "\n",
    "if PASSWORD is not None:\n",
    "    config = SolverConfig(\n",
    "        method = MethodType.EAGER,\n",
    "        backend = RemoteQPUBackend(\n",
    "            username=USERNAME,\n",
    "            project_id=PROJECT_ID,\n",
    "            password=PASSWORD\n",
    "        ),\n",
    "        max_iterations=1\n",
    "    )\n",
    "\n",
    "    # Create the MIS instance\n",
    "    instance = MISInstance(graph)\n",
    "\n",
    "    # Run the solver\n",
    "    solver = MISSolver(instance, config)\n",
    "    solutions = solver.solve().result()\n",
    "\n",
    "    # Display results\n",
    "    print(\"MIS solution:\", solutions[0].nodes)\n",
    "    print(\"Solution cost:\", solutions[0].energy)"
   ]
  }
 ],
 "metadata": {
  "kernelspec": {
   "display_name": "maximum-independent-set",
   "language": "python",
   "name": "python3"
  },
  "language_info": {
   "codemirror_mode": {
    "name": "ipython",
    "version": 3
   },
   "file_extension": ".py",
   "mimetype": "text/x-python",
   "name": "python",
   "nbconvert_exporter": "python",
   "pygments_lexer": "ipython3",
   "version": "3.12.3"
  }
 },
 "nbformat": 4,
 "nbformat_minor": 2
}

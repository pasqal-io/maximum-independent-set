{
 "cells": [
  {
   "cell_type": "markdown",
   "metadata": {},
   "source": [
    "# Tutorial 1: using a Quantum Device to solve MIS\n"
   ]
  },
  {
   "cell_type": "markdown",
   "metadata": {},
   "source": [
    "The high-level goal of this tutorial is to execute an instance of the classic NP-hard Maximum Independent Set (MIS) problem, using both classical and quantum methods.\n",
    "\n",
    "By the end of this notebook, you will know how to:\n",
    "\n",
    "- Setup import for standard MIS benchmarking DIMACS datasets.\n",
    "- Setup compilation and execution of these graphs for execution on both Classical and Quantum Device (either an emulator or a physical QPU).\n",
    "- Launch the execution and extract relevant results."
   ]
  },
  {
   "cell_type": "markdown",
   "metadata": {},
   "source": [
    "## Dataset preparation"
   ]
  },
  {
   "cell_type": "markdown",
   "metadata": {},
   "source": [
    "As in any MIS, we first need to load and prepare data. MIS can work with many types of graphs. For this tutorial, we will use the standard [DIMACS datasets](https://oeis.org/A265032/a265032.html) to benchmark the process."
   ]
  },
  {
   "cell_type": "code",
   "execution_count": null,
   "metadata": {},
   "outputs": [],
   "source": [
    "# Ignore warnings for this tutorial.\n",
    "import logging\n",
    "import os\n",
    "import sys\n",
    "\n",
    "logger = logging.getLogger()\n",
    "logger.disabled = True\n",
    "\n",
    "sys.stderr = open(os.devnull, 'w')"
   ]
  },
  {
   "cell_type": "code",
   "execution_count": null,
   "metadata": {},
   "outputs": [],
   "source": [
    "import networkx as nx\n",
    "\n",
    "# Create a new networkx graph instance to be populated with DIMACS data.\n",
    "graph = nx.Graph()\n",
    "\n",
    "\n",
    "with open(\"./datasets/a265032_1tc.32.txt\", \"r\") as f:\n",
    "    for line in f:\n",
    "        if line.startswith(\"c\"):  # Comment line in DIMACS file.\n",
    "            continue\n",
    "        elif line.startswith(\"p\"):  # Problem definition, i.e. # nodes and edges.\n",
    "            _, _, num_nodes, num_edges = line.strip().split()\n",
    "        elif line.startswith(\"e\"):\n",
    "            _, node1, node2 = line.strip().split()\n",
    "            graph.add_edge(int(node1), int(node2))\n",
    "\n",
    "# Let's check what the graph looks like.\n",
    "print(graph)\n"
   ]
  },
  {
   "cell_type": "markdown",
   "metadata": {},
   "source": [
    "## Solving the MIS using the classical CPLEX solver"
   ]
  },
  {
   "cell_type": "markdown",
   "metadata": {},
   "source": [
    "Let's first solve using the MIS features and IBM's standard classical solver [Cplex](https://www.ibm.com/products/ilog-cplex-optimization-studio). "
   ]
  },
  {
   "cell_type": "code",
   "execution_count": null,
   "metadata": {},
   "outputs": [],
   "source": [
    "from mis.solver.solver import MISInstance\n",
    "from mis.pipeline.config import SolverConfig\n",
    "from mis import MISSolver\n",
    "# Define classical solver configuration\n",
    "from mis.shared.types import MethodType\n",
    "\n",
    "# Set solver config to run Cplex.\n",
    "config = SolverConfig(\n",
    "    method = MethodType.EAGER,\n",
    "    max_iterations=1\n",
    ")\n",
    "\n",
    "# Create the MIS instance\n",
    "instance = MISInstance(graph)\n",
    "\n",
    "# Run the solver and retrieve results.\n",
    "solver = MISSolver(instance, config)\n",
    "solutions = solver.solve().result()\n",
    "\n",
    "# Display results\n",
    "print(\"MIS solution:\", solutions[0].nodes)\n",
    "print(\"Solution cost:\", solutions[0].energy)"
   ]
  },
  {
   "cell_type": "markdown",
   "metadata": {},
   "source": [
    "## Solving using the quantum SDK QuTiP"
   ]
  },
  {
   "cell_type": "code",
   "execution_count": null,
   "metadata": {},
   "outputs": [],
   "source": [
    "from mis.pipeline.backends import QutipBackend\n",
    "\n",
    "\n",
    "config = SolverConfig(\n",
    "    method = MethodType.EAGER,\n",
    "    backend = QutipBackend(),\n",
    "    max_iterations=1\n",
    ")\n",
    "\n",
    "# Create the MIS instance\n",
    "instance = MISInstance(graph)\n",
    "\n",
    "\n",
    "# Run the solver\n",
    "solver = MISSolver(instance, config)\n",
    "solutions = solver.solve().result()\n",
    "\n",
    "# Display results\n",
    "print(\"MIS solution:\", solutions[0].nodes)\n",
    "print(\"Solution cost:\", solutions[0].energy)"
   ]
  },
  {
   "cell_type": "markdown",
   "metadata": {},
   "source": [
    "## Solving using Remote QPU backend "
   ]
  },
  {
   "cell_type": "code",
   "execution_count": null,
   "metadata": {},
   "outputs": [],
   "source": [
    "from mis.pipeline.backends import RemoteQPUBackend\n",
    "\n",
    "USERNAME=\"username\"\n",
    "PROJECT_ID=\"123\"\n",
    "PASSWORD=None\n",
    "\n",
    "if PASSWORD is not None:\n",
    "    config = SolverConfig(\n",
    "        method = MethodType.EAGER,\n",
    "        backend = RemoteQPUBackend(\n",
    "            username=USERNAME,\n",
    "            project_id=PROJECT_ID,\n",
    "            password=PASSWORD\n",
    "        ),\n",
    "        max_iterations=1\n",
    "    )\n",
    "\n",
    "    # Create the MIS instance\n",
    "    instance = MISInstance(graph)\n",
    "\n",
    "    # Run the solver\n",
    "    solver = MISSolver(instance, config)\n",
    "    solutions = solver.solve().result()\n",
    "\n",
    "    # Display results\n",
    "    print(\"MIS solution:\", solutions[0].nodes)\n",
    "    print(\"Solution cost:\", solutions[0].energy)"
   ]
  },
  {
   "cell_type": "code",
   "execution_count": null,
   "metadata": {},
   "outputs": [],
   "source": []
  }
 ],
 "metadata": {
  "kernelspec": {
   "display_name": "Python 3 (ipykernel)",
   "language": "python",
   "name": "python3"
  },
  "language_info": {
   "codemirror_mode": {
    "name": "ipython",
    "version": 3
   },
   "file_extension": ".py",
   "mimetype": "text/x-python",
   "name": "python",
   "nbconvert_exporter": "python",
   "pygments_lexer": "ipython3",
   "version": "3.12.7"
  }
 },
 "nbformat": 4,
 "nbformat_minor": 4
}

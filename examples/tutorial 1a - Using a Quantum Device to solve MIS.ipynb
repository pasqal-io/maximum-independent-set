{
 "cells": [
  {
   "cell_type": "markdown",
   "metadata": {},
   "source": [
    "# MIS High level"
   ]
  },
  {
   "cell_type": "code",
   "execution_count": 1,
   "metadata": {},
   "outputs": [],
   "source": [
    "import networkx as nx\n",
    "\n",
    "# Create a simple triangle graph\n",
    "graph = nx.Graph()\n",
    "graph.add_edges_from([(0, 1), (0, 2)])"
   ]
  },
  {
   "cell_type": "code",
   "execution_count": 2,
   "metadata": {},
   "outputs": [],
   "source": [
    "\n",
    "from mis.shared.types import MISInstance\n",
    "from mis.pipeline.config import SolverConfig\n",
    "from mis import MISSolver"
   ]
  },
  {
   "cell_type": "markdown",
   "metadata": {},
   "source": [
    "Solve using the configuration without quantum"
   ]
  },
  {
   "cell_type": "code",
   "execution_count": 3,
   "metadata": {},
   "outputs": [
    {
     "name": "stdout",
     "output_type": "stream",
     "text": [
      "MIS solution: [1, 2]\n",
      "Solution cost: 0\n"
     ]
    }
   ],
   "source": [
    "\n",
    "# Define classical solver configuration\n",
    "from mis.shared.types import MethodType\n",
    "\n",
    "\n",
    "config = SolverConfig(\n",
    "    method = MethodType.EAGER,\n",
    "    max_iterations=1\n",
    ")\n",
    "\n",
    "# Create the MIS instance\n",
    "instance = MISInstance(graph)\n",
    "\n",
    "\n",
    "# Run the solver\n",
    "solver = MISSolver(instance, config)\n",
    "solutions = solver.solve().result()\n",
    "\n",
    "# Display results\n",
    "print(\"MIS solution:\", solutions[0].nodes)\n",
    "print(\"Solution cost:\", solutions[0].energy)"
   ]
  },
  {
   "cell_type": "markdown",
   "metadata": {},
   "source": [
    "Solve using the configuration with QTip"
   ]
  },
  {
   "cell_type": "code",
   "execution_count": 4,
   "metadata": {},
   "outputs": [
    {
     "name": "stdout",
     "output_type": "stream",
     "text": [
      "MIS solution: [1, 2]\n",
      "Solution cost: -0.5697872454017736\n"
     ]
    }
   ],
   "source": [
    "from mis.pipeline.backends import QutipBackend\n",
    "\n",
    "\n",
    "config = SolverConfig(\n",
    "    method = MethodType.EAGER,\n",
    "    backend = QutipBackend(),\n",
    "    max_iterations=1\n",
    ")\n",
    "\n",
    "# Create the MIS instance\n",
    "instance = MISInstance(graph)\n",
    "\n",
    "\n",
    "# Run the solver\n",
    "solver = MISSolver(instance, config)\n",
    "solutions = solver.solve().result()\n",
    "\n",
    "# Display results\n",
    "print(\"MIS solution:\", solutions[0].nodes)\n",
    "print(\"Solution cost:\", solutions[0].energy)"
   ]
  },
  {
   "cell_type": "markdown",
   "metadata": {},
   "source": [
    "Solve using Remote QPU backend "
   ]
  },
  {
   "cell_type": "code",
   "execution_count": null,
   "metadata": {},
   "outputs": [
    {
     "ename": "ImportError",
     "evalue": "cannot import name 'Connecter' from 'mis' (/home/david/Documents/Code/maximum-independent-set/mis/__init__.py)",
     "output_type": "error",
     "traceback": [
      "\u001b[31m---------------------------------------------------------------------------\u001b[39m",
      "\u001b[31mImportError\u001b[39m                               Traceback (most recent call last)",
      "\u001b[36mCell\u001b[39m\u001b[36m \u001b[39m\u001b[32mIn[5]\u001b[39m\u001b[32m, line 1\u001b[39m\n\u001b[32m----> \u001b[39m\u001b[32m1\u001b[39m \u001b[38;5;28;01mfrom\u001b[39;00m\u001b[38;5;250m \u001b[39m\u001b[34;01mmis\u001b[39;00m\u001b[38;5;250m \u001b[39m\u001b[38;5;28;01mimport\u001b[39;00m Connecter \n\u001b[32m      2\u001b[39m \u001b[38;5;66;03m# Rename connector \u001b[39;00m\n\u001b[32m      3\u001b[39m \u001b[38;5;66;03m# - builds on top of the executor \u001b[39;00m\n",
      "\u001b[31mImportError\u001b[39m: cannot import name 'Connecter' from 'mis' (/home/david/Documents/Code/maximum-independent-set/mis/__init__.py)"
     ]
    }
   ],
   "source": [
    "from mis.pipeline.backends import RemoteQPUBackend\n",
    "\n",
    "USERNAME=\"username\"\n",
    "PROJECT_ID=\"123\"\n",
    "PASSWORD=None\n",
    "\n",
    "if PASSWORD is not None:\n",
    "    config = SolverConfig(\n",
    "        method = MethodType.EAGER,\n",
    "        backend = RemoteQPUBackend(\n",
    "            username=USERNAME,\n",
    "            project_id=PROJECT_ID,\n",
    "            password=PASSWORD\n",
    "        ),\n",
    "        max_iterations=1\n",
    "    )\n",
    "\n",
    "    # Create the MIS instance\n",
    "    instance = MISInstance(graph)\n",
    "\n",
    "    # Run the solver\n",
    "    solver = MISSolver(instance, config)\n",
    "    solutions = solver.solve().result()\n",
    "\n",
    "    # Display results\n",
    "    print(\"MIS solution:\", solutions[0].nodes)\n",
    "    print(\"Solution cost:\", solutions[0].energy)"
   ]
  },
  {
   "cell_type": "code",
   "execution_count": null,
   "metadata": {},
   "outputs": [],
   "source": [
    "conn = Connecter(backend=BackendType.REMOTE_EMUMPS,  # update the backend\n",
    "    project_id=\"project-123\",\n",
    "    username=\"your_username\",\n",
    "    password=\"your_password\")\n",
    "\n",
    "conn = None\n",
    "\n",
    "# integrate limitations for using backends with different types of graphs \n",
    "# 15 atoms - QTips\n",
    "# Add warnings about size about upper bounds - state vector emulation (15 atoms)\n",
    "# emu mps ??"
   ]
  },
  {
   "cell_type": "code",
   "execution_count": null,
   "metadata": {},
   "outputs": [],
   "source": [
    "# Point - keep the connection separate than solver configration \n",
    "# Keep the connector as an optional argument somewhere below\n",
    "\n",
    "# Set up the quantum solver config\n",
    "config = SolverConfig(\n",
    "    use_quantum=True,\n",
    "    method = \"wmis\",  # or \"greedy\"\n",
    "    max_iterations=3,\n",
    "    connector = conn\n",
    ")\n",
    "\n",
    "# Solve the problem using quantum solver\n",
    "solver = MISSolver(instance, config)\n",
    "\n",
    "# raise errors here when the register are not compatible \n",
    "result = solver.solve()"
   ]
  },
  {
   "cell_type": "code",
   "execution_count": null,
   "metadata": {},
   "outputs": [],
   "source": [
    "# Print output\n",
    "print(\"Quantum MIS solution:\", result.bitstrings)\n",
    "print(\"Solution cost:\", result.costs)"
   ]
  }
 ],
 "metadata": {
  "kernelspec": {
   "display_name": "maximum-independent-set",
   "language": "python",
   "name": "python3"
  },
  "language_info": {
   "codemirror_mode": {
    "name": "ipython",
    "version": 3
   },
   "file_extension": ".py",
   "mimetype": "text/x-python",
   "name": "python",
   "nbconvert_exporter": "python",
   "pygments_lexer": "ipython3",
   "version": "3.12.3"
  }
 },
 "nbformat": 4,
 "nbformat_minor": 2
}

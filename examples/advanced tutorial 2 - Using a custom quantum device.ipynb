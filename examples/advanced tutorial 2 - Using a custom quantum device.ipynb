{
 "cells": [
  {
   "cell_type": "markdown",
   "metadata": {},
   "source": [
    "## Using a custom quantum device\n",
    "\n",
    "It is possible that the quantum device constraints prevent us from solving instances. In this advanced tutorial, we show how to provide a custom device in the `BackendConfig`."
   ]
  },
  {
   "cell_type": "code",
   "execution_count": null,
   "metadata": {},
   "outputs": [],
   "source": [
    "# Ignore warnings for this tutorial.\n",
    "import logging\n",
    "import os\n",
    "import sys\n",
    "\n",
    "logger = logging.getLogger()\n",
    "logger.disabled = True\n",
    "\n",
    "sys.stderr = open(os.devnull, 'w')"
   ]
  },
  {
   "cell_type": "code",
   "execution_count": null,
   "metadata": {},
   "outputs": [],
   "source": [
    "import networkx as nx\n",
    "\n",
    "# Create a new networkx graph instance to be populated with DIMACS data.\n",
    "graph = nx.Graph()\n",
    "\n",
    "\n",
    "with open(\"./datasets/dimacs/a265032_1tc.16.txt\", \"r\") as f:\n",
    "    for line in f:\n",
    "        if line.startswith(\"c\"):  # Comment line in DIMACS file.\n",
    "            continue\n",
    "        elif line.startswith(\"p\"):  # Problem definition, i.e. # nodes and edges.\n",
    "            _, _, num_nodes, num_edges = line.strip().split()\n",
    "            # Preset graph node labels as there might be isolated ones.\n",
    "            graph.add_nodes_from(range(1, int(num_nodes) + 1))\n",
    "\n",
    "        elif line.startswith(\"e\"):\n",
    "            _, node1, node2 = line.strip().split()\n",
    "            graph.add_edge(int(node1), int(node2))\n",
    "\n",
    "# Let's check what the graph looks like.\n",
    "print(graph)\n"
   ]
  },
  {
   "cell_type": "markdown",
   "metadata": {},
   "source": [
    "## Solving MIS using a non-quantum solver"
   ]
  },
  {
   "cell_type": "markdown",
   "metadata": {},
   "source": [
    "Let's first solve this instance of MIS using standard heuristics."
   ]
  },
  {
   "cell_type": "code",
   "execution_count": null,
   "metadata": {},
   "outputs": [],
   "source": [
    "from mis import MISSolver, MISInstance, SolverConfig\n",
    "# Define classical solver configuration\n",
    "\n",
    "# Use a default configuration for the library.\n",
    "# By default, the library uses a classical (non-quantum)\n",
    "# heuristic solver.\n",
    "config = SolverConfig()\n",
    "\n",
    "# Create the MIS instance.\n",
    "instance = MISInstance(graph)\n",
    "\n",
    "# Run the solver and retrieve results.\n",
    "solver = MISSolver(instance, config)\n",
    "solutions = solver.solve()\n",
    "\n",
    "# Display results\n",
    "solutions[0].draw()\n",
    "print(\"Solution nodes: \", solutions[0].nodes)\n",
    "print(\"Solution frequency:\", solutions[0].frequency)\n",
    "print(\"Solution size:\", solutions[0].size)"
   ]
  },
  {
   "cell_type": "markdown",
   "metadata": {},
   "source": [
    "The solver returns a list of node labels of size 12 which is the unique solution so far (frequency of 1.0)."
   ]
  },
  {
   "cell_type": "markdown",
   "metadata": {},
   "source": [
    "## Solving using the quantum"
   ]
  },
  {
   "cell_type": "markdown",
   "metadata": {},
   "source": [
    "When trying to run directly this instance using a quantum approach with the default `BackendConfig`, the embedding will fail as the default device has constraints hard to fit with the `DefaultEmbedder`. Here the embedding will fail due to not respecting the `max_radial_distance`. Let us allievate this by using a `VirtualDevice`. For more details, refer to the [`pulser` tutorial on how to define custom devices](https://pulser.readthedocs.io/en/stable/tutorials/virtual_devices.html)."
   ]
  },
  {
   "cell_type": "code",
   "execution_count": null,
   "metadata": {},
   "outputs": [],
   "source": [
    "from mis import BackendConfig, BackendType\n",
    "from pulser.devices import AnalogDevice\n",
    "from dataclasses import replace\n",
    "\n",
    "VirtualAnalog = replace(AnalogDevice.to_virtual(), max_radial_distance=900)\n",
    "\n",
    "# deactivate preprocessor to run on quantum, as preprocessor will skip running on device\n",
    "solver_config = SolverConfig(\n",
    "    # Use the QuTIP backend.\n",
    "    backend = BackendConfig(\n",
    "        backend = BackendType.EMU_MPS,\n",
    "        device=VirtualAnalog,\n",
    "    ),\n",
    "    # Perform up to 10 quantum measures.\n",
    "    max_iterations=10,\n",
    "    preprocessor=None,\n",
    "    \n",
    ")\n",
    "\n",
    "# Run the solver\n",
    "solver = MISSolver(instance, solver_config)\n",
    "solutions = solver.solve()\n",
    "\n",
    "# Display results\n",
    "print(\"MIS solution:\", solutions[0].nodes)\n",
    "print(\"Solution frequency:\", solutions[0].frequency)\n",
    "print(\"Solution size:\", solutions[0].size)\n",
    "solutions[0].draw()"
   ]
  },
  {
   "cell_type": "markdown",
   "metadata": {},
   "source": [
    "Also can be run on a remote emulator:"
   ]
  },
  {
   "cell_type": "code",
   "execution_count": null,
   "metadata": {},
   "outputs": [],
   "source": [
    "# Replace with your username, project id and password on the Pasqal Cloud.\n",
    "USERNAME=\"username\"\n",
    "PROJECT_ID=\"123\"\n",
    "PASSWORD=None\n",
    "\n",
    "if PASSWORD is not None:\n",
    "    # deactivate preprocessor to run on quantum, as preprocessor will skip running on device\n",
    "    config = SolverConfig(\n",
    "        backend = BackendConfig(\n",
    "            backend=BackendType.REMOTE_EMUMPS,\n",
    "            device=VirtualAnalog,\n",
    "            username=USERNAME,\n",
    "            project_id=PROJECT_ID,\n",
    "            password=PASSWORD\n",
    "        ),\n",
    "        max_iterations=10,\n",
    "        preprocessor=None,\n",
    "    )\n",
    "\n",
    "    # Run the solver\n",
    "    solver = MISSolver(instance, config)\n",
    "    solutions = solver.solve()\n",
    "\n",
    "    # Display results\n",
    "    print(\"MIS solution:\", solutions[0].nodes)\n",
    "    print(\"Solution frequency:\", solutions[0].frequency)\n",
    "    solutions[0].draw()"
   ]
  }
 ],
 "metadata": {
  "kernelspec": {
   "display_name": "Python 3 (ipykernel)",
   "language": "python",
   "name": "python3"
  },
  "language_info": {
   "codemirror_mode": {
    "name": "ipython",
    "version": 3
   },
   "file_extension": ".py",
   "mimetype": "text/x-python",
   "name": "python",
   "nbconvert_exporter": "python",
   "pygments_lexer": "ipython3",
   "version": "3.13.7"
  }
 },
 "nbformat": 4,
 "nbformat_minor": 4
}

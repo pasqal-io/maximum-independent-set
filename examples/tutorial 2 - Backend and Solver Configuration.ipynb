{
 "cells": [
  {
   "cell_type": "markdown",
   "metadata": {},
   "source": [
    "# Tutorial 2 - Backend and Solver Configuration"
   ]
  },
  {
   "cell_type": "code",
   "execution_count": null,
   "metadata": {},
   "outputs": [],
   "source": [
    "#import networkx as nx\n",
    "#from mis import MISInstance, MISSolver\n",
    "#from mis.config import SolverConfig, BackendType\n",
    "\n",
    "# 1. Define a small graph\n",
    "#graph = nx.Graph()\n",
    "#graph.add_edges_from([(0, 1), (0, 2)])"
   ]
  },
  {
   "cell_type": "markdown",
   "metadata": {},
   "source": [
    "This is how the user can review the pulse and register"
   ]
  },
  {
   "cell_type": "code",
   "execution_count": null,
   "metadata": {},
   "outputs": [],
   "source": [
    "#instance = MISInstance(graph)\n",
    "\n",
    "\n",
    "#config = SolverConfig(\n",
    "#    method = \"wmis\",  # or \"greedy\"\n",
    "#    use_quantum=False,\n",
    "#    backend=BackendType.QUTIP,\n",
    "#    max_iterations=3,\n",
    "#    username=\"your_username\",\n",
    "#    password=\"your_password\",\n",
    "#    project_id=\"optional_project_id\" \n",
    "#)\n",
    "\n",
    "\n",
    "#solver = MISSolver(instance, config)\n",
    "\n",
    "# get the register \n",
    "#register = solver.embedding()  \n",
    "\n",
    "# get the pulse\n",
    "#pulse = solver.pulse(register) if config.use_quantum else None\n",
    "\n",
    "# solve\n",
    "#result = solver.solve()"
   ]
  },
  {
   "cell_type": "markdown",
   "metadata": {},
   "source": [
    "For extra customization "
   ]
  },
  {
   "cell_type": "code",
   "execution_count": null,
   "metadata": {},
   "outputs": [],
   "source": [
    "#import networkx as nx\n",
    "#from mis import MISInstance, MISSolution, MISSolver\n",
    "#from mis.config import SolverConfig, BackendType\n",
    "#from mis.pipeline import BaseEmbedder, BasePulseShaper\n",
    "#from mis.pipeline.targets import Register, Pulse\n",
    "\n",
    "#graph = nx.Graph()\n",
    "#graph.add_edges_from([(0, 1), (1, 2)])\n",
    "#instance = MISInstance(graph)"
   ]
  },
  {
   "cell_type": "code",
   "execution_count": null,
   "metadata": {},
   "outputs": [],
   "source": [
    "#config = SolverConfig(\n",
    "#    use_quantum=True,\n",
    "#    backend=BackendType.REMOTE_EMUMPS,\n",
    "#    max_iterations=2,\n",
    "#    username=\"user\",\n",
    "#    password=\"pass\",\n",
    "#    project_id=\"proj123\"\n",
    "#)\n",
    "\n",
    "#solver = MISSolver(instance, config)\n",
    "\n"
   ]
  },
  {
   "cell_type": "code",
   "execution_count": null,
   "metadata": {},
   "outputs": [],
   "source": [
    "# Define a register\n",
    "#class MyCustomEmbedder(BaseEmbedder):\n",
    "#    def embed(self) -> Register:\n",
    "#        return Register(atoms={0: (0, 0), 1: (1, 0), 2: (0.5, 0.866)})\n",
    "    \n",
    "# have access to layouts?\n",
    "# We dont teavh users about layouts\n",
    "    \n",
    "#class MyCustomPulseShaper(BasePulseShaper):\n",
    "#    def embed(self) -> Register:\n",
    "#        return Pulse({})\n",
    "    \n",
    "    \n",
    "# Inject your embedder\n",
    "#solver._solver.embedder = MyCustomEmbedder(instance, config)\n",
    "#solver._solver.pulsershaper = MyCustomPulseShaper(instance, config)"
   ]
  },
  {
   "cell_type": "code",
   "execution_count": null,
   "metadata": {},
   "outputs": [],
   "source": [
    "#solution: MISSolution = solver.solve()\n",
    "\n",
    "#print(\"Final bitstring:\", solution.bitstrings)\n",
    "#print(\"Final cost:\", solution.costs)\n"
   ]
  }
 ],
 "metadata": {
  "kernelspec": {
   "display_name": "Python 3 (ipykernel)",
   "language": "python",
   "name": "python3"
  },
  "language_info": {
   "codemirror_mode": {
    "name": "ipython",
    "version": 3
   },
   "file_extension": ".py",
   "mimetype": "text/x-python",
   "name": "python",
   "nbconvert_exporter": "python",
   "pygments_lexer": "ipython3",
   "version": "3.12.7"
  }
 },
 "nbformat": 4,
 "nbformat_minor": 4
}

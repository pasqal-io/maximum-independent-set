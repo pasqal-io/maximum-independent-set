{
 "cells": [
  {
   "cell_type": "markdown",
   "id": "9810a41c",
   "metadata": {},
   "source": [
    "# Tutorial 5 - Advanced quantum programming\n",
    "\n",
    "Note: we depend on the `pulser` library for performing quantum programming and you should have knowledge of the library and neutral-atom quantum programming. \n",
    "\n",
    "By design, a quantum solver is composed of two main quantum components for solving a problem:\n",
    "\n",
    "- an embedder,  i.e. a mechanism used to customize the layout of neutral atoms on the quantum device.\n",
    "- a pulse shaper, i.e. a mechanism used to customize the laser pulse to which the neutral atoms are subjected during the execution of the quantum algorithm.\n",
    "\n",
    "\n",
    "\n",
    "These can be specified in the `SolverConfig`. Several embedders and pulse shapers are already implemented, but for research purposes, we allow the possibility to design our own custom embedder and pulse shapers. This tutorial dives into currently available components, as well as designing custom ones.\n",
    "\n",
    "## Embedder\n",
    "\n",
    "### Default\n",
    "\n",
    "When instantiating a `SolverConfig`, a default embedder is already made available. To access the resulting embedding from a solver, simply call the `embedding` method as follows:"
   ]
  },
  {
   "cell_type": "code",
   "execution_count": 1,
   "id": "574ed0f4",
   "metadata": {
    "vscode": {
     "languageId": "plaintext"
    }
   },
   "outputs": [],
   "source": [
    "from mis import MISSolver, MISInstance, SolverConfig, BackendConfig, BackendType\n",
    "\n",
    "\n",
    "from networkx import erdos_renyi_graph\n",
    "\n",
    "# User can fix the seed for reproducibility \n",
    "seed = 0\n",
    "graph = erdos_renyi_graph(n=25, p=0.4, seed=seed)\n",
    "instance = MISInstance(graph)\n",
    "\n",
    "qutip_config = BackendConfig(\n",
    "    backend = BackendType.QUTIP\n",
    ")\n",
    "\n",
    "config = SolverConfig(backend = qutip_config)\n",
    "solver = MISSolver(instance, config)\n",
    "\n",
    "\n",
    "geometry = solver.embedding()\n",
    "\n",
    "# draw the register\n",
    "# geometry.draw()"
   ]
  },
  {
   "cell_type": "markdown",
   "id": "2faef28e",
   "metadata": {},
   "source": [
    "### Custom\n",
    "\n",
    "To design our own embedding method, we need to define a class inhereting from `mis.pipeline.embedder.BaseEmbedder` and implement an `embed` method as follows: "
   ]
  },
  {
   "cell_type": "code",
   "execution_count": 2,
   "id": "531ccd08",
   "metadata": {
    "vscode": {
     "languageId": "plaintext"
    }
   },
   "outputs": [],
   "source": [
    "from mis.pipeline.embedder import BaseEmbedder\n",
    "from pulser import Register\n",
    "from qoolqit._solvers.backends import BaseBackend\n",
    "from mis.pipeline.layout import Layout\n",
    "\n",
    "class DefaultEmbedder(BaseEmbedder):\n",
    "    \"\"\" The DefaultEmbedder class available in mis.\n",
    "    \"\"\"\n",
    "\n",
    "    def embed(self, instance: MISInstance, config: SolverConfig, backend: BaseBackend) -> Register:\n",
    "        device = backend.device()\n",
    "\n",
    "        # Use Layout helper to get rescaled coordinates and interaction graph\n",
    "        layout = Layout.from_device(data=instance, device=device)\n",
    "\n",
    "        # Finally, prepare register.\n",
    "        return Register(\n",
    "            qubits={f\"q{node}\": pos for (node, pos) in layout.coords.items()}\n",
    "        )\n",
    "\n",
    "custom_config = SolverConfig(backend = qutip_config, embedder=DefaultEmbedder())"
   ]
  },
  {
   "cell_type": "code",
   "execution_count": 3,
   "id": "e5c14f39-6fab-42ae-bc95-3ba4bb1a34ff",
   "metadata": {},
   "outputs": [],
   "source": [
    "custom_solver = MISSolver(instance, custom_config)\n",
    "default_geometry = custom_solver.embedding()\n",
    "\n",
    "# draw the register\n",
    "# default_geometry.draw()"
   ]
  },
  {
   "cell_type": "markdown",
   "id": "02d2d67a",
   "metadata": {},
   "source": [
    "## Pulse shaper\n",
    "\n",
    "### Default\n",
    "\n",
    "When instantiating a `SolverConfig`, a default pulse shaper is already made available. To access the resulting embedding from a solver, simply call the `pulse` method as follows:"
   ]
  },
  {
   "cell_type": "code",
   "execution_count": 4,
   "id": "482fbeca",
   "metadata": {
    "vscode": {
     "languageId": "plaintext"
    }
   },
   "outputs": [
    {
     "data": {
      "text/plain": [
       "Pulse(amp=InterpolatedWaveform(Points: (0, 1e-09), (3000, 15.71), (5999, 1e-09), Interpolator=PchipInterpolator) rad/µs, detuning=InterpolatedWaveform(Points: (0, -125.7), (3000, 0), (5999, 125.7), Interpolator=PchipInterpolator) rad/µs, phase=0, post_phase_shift=0)"
      ]
     },
     "execution_count": 4,
     "metadata": {},
     "output_type": "execute_result"
    }
   ],
   "source": [
    "default_pulse = solver.pulse(solver.embedding())\n",
    "default_pulse"
   ]
  },
  {
   "cell_type": "markdown",
   "id": "86ffefeb-5d29-4b4f-8c13-545f8dd28b83",
   "metadata": {
    "vscode": {
     "languageId": "plaintext"
    }
   },
   "source": [
    "### Custom\n",
    "\n",
    "To design our own pulse shaping method, we need to define a class inhereting from `mis.pipeline.pulse.BasePulseShaper` and implement an `generate` method as follows: "
   ]
  },
  {
   "cell_type": "code",
   "execution_count": 5,
   "id": "94478152-3640-4719-a37b-df0aa508084e",
   "metadata": {},
   "outputs": [],
   "source": [
    "from mis.pipeline.pulse import BasePulseShaper, DefaultPulseShaper\n",
    "from pulser import Pulse\n",
    "\n",
    "class ConstantPulseShaper(BasePulseShaper):\n",
    "    \"\"\"\n",
    "    We simply return a constant pulse.\n",
    "    \"\"\"\n",
    "\n",
    "    def generate(\n",
    "        self, config: SolverConfig, register: Register, backend: BaseBackend, instance: MISInstance\n",
    "    ) -> Pulse:\n",
    "        import numpy as np\n",
    "        return Pulse.ConstantPulse(1000, np.pi, 0, 0)"
   ]
  },
  {
   "cell_type": "code",
   "execution_count": 6,
   "id": "61557aab-6bfd-41b1-b91e-061a6e404dc5",
   "metadata": {},
   "outputs": [
    {
     "data": {
      "text/plain": [
       "Pulse(amp=ConstantWaveform(1000 ns, 3.14) rad/µs, detuning=ConstantWaveform(1000 ns, 0) rad/µs, phase=0, post_phase_shift=0)"
      ]
     },
     "execution_count": 6,
     "metadata": {},
     "output_type": "execute_result"
    }
   ],
   "source": [
    "constant_pulse_config = SolverConfig(backend = qutip_config, pulse_shaper=ConstantPulseShaper())\n",
    "constant_pulse_solver = MISSolver(instance, constant_pulse_config)\n",
    "constant_pulse = constant_pulse_solver.pulse(constant_pulse_solver.embedding())\n",
    "constant_pulse"
   ]
  }
 ],
 "metadata": {
  "kernelspec": {
   "display_name": "Python 3 (ipykernel)",
   "language": "python",
   "name": "python3"
  },
  "language_info": {
   "codemirror_mode": {
    "name": "ipython",
    "version": 3
   },
   "file_extension": ".py",
   "mimetype": "text/x-python",
   "name": "python",
   "nbconvert_exporter": "python",
   "pygments_lexer": "ipython3",
   "version": "3.13.7"
  }
 },
 "nbformat": 4,
 "nbformat_minor": 5
}

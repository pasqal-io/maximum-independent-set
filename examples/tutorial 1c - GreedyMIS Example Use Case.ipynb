{
 "cells": [
  {
   "cell_type": "markdown",
   "id": "d276a71c",
   "metadata": {},
   "source": [
    "# Using Greedy MIS Solver\n",
    "\n",
    "This notebook demonstrates how to solve the Maximum Independent Set (MIS) problem using the GreedyMIS algorithm provided the `MIS` library. It walks through different solving modes:\n",
    "\n",
    "1. Classical solver (basic)\n",
    "2. Classical solver with greedy decomposition\n",
    "3. Quantum solver (basic)\n",
    "4. Quantum solver with greedy decomposition\n",
    "5. Explanation of optional SolverConfig parameters\n",
    "\n",
    "\n",
    "\n",
    "\n",
    "Beyond the required parameters, SolverConfig allows fine control using following parameters for the GreedyMIS algorithm\n",
    "\n",
    "- layout_coords: Custom layout of qubit coordinates\n",
    "- rydberg_blockade: Distance threshold for interaction\n",
    "- exact_solving_threshold: Use exact solver for small subgraphs\n",
    "- subgraph_quantity: Number of greedy mappings to generate\n",
    "- mis_sample_quantity: Number of samples from quantum solver\n",
    "- max_number_of_solutions: Return top-N solutions\n"
   ]
  },
  {
   "cell_type": "code",
   "execution_count": 1,
   "id": "e55ada39",
   "metadata": {},
   "outputs": [],
   "source": [
    "import networkx as nx\n",
    "from mis.shared.types import MISInstance, MethodType\n",
    "from mis.pipeline.config import SolverConfig\n",
    "from mis import MISSolver"
   ]
  },
  {
   "cell_type": "markdown",
   "id": "2529c54e",
   "metadata": {},
   "source": [
    "Importing the graph and basic parameters for greedy algorithm"
   ]
  },
  {
   "cell_type": "code",
   "execution_count": 2,
   "id": "da0b8401",
   "metadata": {},
   "outputs": [],
   "source": [
    "from networkx import Graph, erdos_renyi_graph\n",
    "seed=0\n",
    "graph = erdos_renyi_graph(25,0.4,seed = seed)\n",
    "\n",
    "import pickle\n",
    "rydberg_blockade = 6.6\n",
    "with open('./coordinate_arrays.pickle', 'rb') as handle:\n",
    "    layout_coords = pickle.load(handle)"
   ]
  },
  {
   "cell_type": "markdown",
   "id": "363e5a48",
   "metadata": {},
   "source": [
    "## 1. Classical Solver (Without Greedy)\n",
    "\n",
    "Basic eager method for soling the MIS"
   ]
  },
  {
   "cell_type": "code",
   "execution_count": 3,
   "id": "71d7e2a7",
   "metadata": {},
   "outputs": [
    {
     "name": "stdout",
     "output_type": "stream",
     "text": [
      "Classical MIS (no greedy): [0, 3, 7, 9, 11, 14, 23, 24]\n",
      "Solution energy: 1.0\n"
     ]
    }
   ],
   "source": [
    "instance = MISInstance(graph)\n",
    "\n",
    "config = SolverConfig(method=MethodType.EAGER)\n",
    "solver = MISSolver(instance, config)\n",
    "solution = solver.solve().result()[0]\n",
    "\n",
    "print(\"Classical MIS (no greedy):\", solution.nodes)\n",
    "print(\"Solution energy:\", solution.frequency)"
   ]
  },
  {
   "cell_type": "markdown",
   "id": "394563b5",
   "metadata": {},
   "source": [
    "## 2. Classical Solver with Greedy Decomposition\n",
    "\n",
    "With this greedy decomposition, the default parameters will be used to create subgraphs.\n",
    "The graph will be used to create the layout, which would allow creation of subgraphs"
   ]
  },
  {
   "cell_type": "code",
   "execution_count": 4,
   "id": "41e221d4",
   "metadata": {},
   "outputs": [
    {
     "name": "stdout",
     "output_type": "stream",
     "text": [
      "Classical MIS (greedy): [12, 5, 1, 7]\n",
      "Solution energy: 4.0\n"
     ]
    }
   ],
   "source": [
    "config = SolverConfig(method=MethodType.GREEDY)\n",
    "solver = MISSolver(instance, config)\n",
    "solution = solver.solve().result()[0]\n",
    "\n",
    "print(\"Classical MIS (greedy):\", solution.nodes)\n",
    "print(\"Solution energy:\", solution.frequency)"
   ]
  },
  {
   "cell_type": "markdown",
   "id": "bd0b5166",
   "metadata": {},
   "source": [
    "The user can also specify the layout_coordinates and rydberg_blockade, which would allow the greedy algorithm to create relevant subgraphs"
   ]
  },
  {
   "cell_type": "code",
   "execution_count": 5,
   "id": "1262bb82",
   "metadata": {},
   "outputs": [
    {
     "name": "stdout",
     "output_type": "stream",
     "text": [
      "Classical MIS (greedy): [7, 9, 3, 0, 24, 11, 14, 23]\n",
      "Solution energy: 8.0\n"
     ]
    }
   ],
   "source": [
    "config = SolverConfig(method=MethodType.GREEDY, layout_coords=layout_coords, rydberg_blockade=rydberg_blockade)\n",
    "solver = MISSolver(instance, config)\n",
    "solution = solver.solve().result()[0]\n",
    "\n",
    "print(\"Classical MIS (greedy):\", solution.nodes)\n",
    "print(\"Solution energy:\", solution.frequency)"
   ]
  },
  {
   "cell_type": "markdown",
   "id": "ea388228",
   "metadata": {},
   "source": [
    "## 3. Quantum Solver (Basic)"
   ]
  },
  {
   "cell_type": "code",
   "execution_count": 6,
   "id": "0adeddf6",
   "metadata": {},
   "outputs": [
    {
     "name": "stdout",
     "output_type": "stream",
     "text": [
      "Quantum MIS (no greedy): [0, 3, 7, 9, 11, 14, 23, 24]\n",
      "Solution energy: 1\n"
     ]
    }
   ],
   "source": [
    "from mis.pipeline.backends import QutipBackend\n",
    "\n",
    "config = SolverConfig(method=MethodType.EAGER, use_quantum=True, backend=QutipBackend())\n",
    "solver = MISSolver(instance, config)\n",
    "solution = solver.solve().result()[0]\n",
    "\n",
    "print(\"Quantum MIS (no greedy):\", solution.nodes)\n",
    "print(\"Solution energy:\", solution.frequency)"
   ]
  },
  {
   "cell_type": "markdown",
   "id": "b5639812",
   "metadata": {},
   "source": [
    "## 4. Quantum Solver with Greedy Decomposition\n",
    "\n",
    "With this greedy decomposition, the default parameters will be used to create subgraphs. The graph will be used to create the layout, which would allow creation of subgraphs"
   ]
  },
  {
   "cell_type": "code",
   "execution_count": 9,
   "id": "ab4a0087",
   "metadata": {},
   "outputs": [
    {
     "name": "stdout",
     "output_type": "stream",
     "text": [
      "Quantum MIS (greedy): []\n",
      "Solution energy: 0\n"
     ]
    }
   ],
   "source": [
    "config = SolverConfig(method=MethodType.GREEDY, use_quantum=True, backend=QutipBackend())\n",
    "solver = MISSolver(instance, config)\n",
    "solution = solver.solve().result()[0]\n",
    "\n",
    "print(\"Quantum MIS (greedy):\", solution.nodes)\n",
    "print(\"Solution energy:\", solution.frequency)"
   ]
  },
  {
   "cell_type": "markdown",
   "id": "db157a0d",
   "metadata": {},
   "source": [
    "The user can also specify the layout_coordinates and rydberg_blockade, which would allow the greedy algorithm to create relevant subgraphs"
   ]
  },
  {
   "cell_type": "code",
   "execution_count": 10,
   "id": "0407435e",
   "metadata": {},
   "outputs": [
    {
     "name": "stdout",
     "output_type": "stream",
     "text": [
      "Quantum MIS (greedy): [7, 9, 3, 0, 24, 11, 14, 23]\n",
      "Solution energy: 8.0\n"
     ]
    }
   ],
   "source": [
    "config = SolverConfig(method=MethodType.GREEDY, use_quantum=True, backend=QutipBackend(), layout_coords=layout_coords, rydberg_blockade=rydberg_blockade)\n",
    "solver = MISSolver(instance, config)\n",
    "solution = solver.solve().result()[0]\n",
    "\n",
    "print(\"Quantum MIS (greedy):\", solution.nodes)\n",
    "print(\"Solution energy:\", solution.frequency)"
   ]
  }
 ],
 "metadata": {
  "kernelspec": {
   "display_name": "MIS-Kernel",
   "language": "python",
   "name": "maximum-independent-set"
  },
  "language_info": {
   "codemirror_mode": {
    "name": "ipython",
    "version": 3
   },
   "file_extension": ".py",
   "mimetype": "text/x-python",
   "name": "python",
   "nbconvert_exporter": "python",
   "pygments_lexer": "ipython3",
   "version": "3.10.15"
  }
 },
 "nbformat": 4,
 "nbformat_minor": 5
}

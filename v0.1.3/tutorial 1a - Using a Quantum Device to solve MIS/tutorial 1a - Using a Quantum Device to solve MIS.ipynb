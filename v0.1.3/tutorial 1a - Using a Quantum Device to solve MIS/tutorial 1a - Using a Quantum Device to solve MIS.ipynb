{
 "cells": [
  {
   "cell_type": "markdown",
   "metadata": {},
   "source": [
    "# Tutorial 1: using a Quantum Device to solve MIS\n"
   ]
  },
  {
   "cell_type": "markdown",
   "metadata": {},
   "source": [
    "Maximum Independent Set (MIS) is a standard and widespread graph problem in scheduling, network theory, error correction, and even in the quantum sector as part of more general optimization algorithms (e.g., QUBO formulations) or as a benchmark on quantum annealers or neutral atom devices.\n",
    "\n",
    "However, there is no known polynomial-time algorithm for general graphs and even approximating it is hard in some cases.\n",
    "\n",
    "The high-level goal of this tutorial is to execute an instance of the classic $NP$-hard MIS problem, using both classical and quantum methods. \n",
    "\n",
    "The MIS problem can be formulated as follows: given a graph $G=(V,E)$, an independent set is a subset of vertices $S\\subseteq V$ such that no two vertices in $S$ are connected by an edge. The MIS problem then seeks to find the largest independent set in $G$.\n",
    "\n",
    "By the end of this notebook, you will know how to:\n",
    "\n",
    "- Setup import for standard MIS benchmarking DIMACS datasets.\n",
    "- Setup compilation and execution of these graphs for execution on both Classical and Quantum Device (either an emulator or a physical QPU).\n",
    "- Launch the execution and extract relevant results."
   ]
  },
  {
   "cell_type": "markdown",
   "metadata": {},
   "source": [
    "## Dataset preparation"
   ]
  },
  {
   "cell_type": "markdown",
   "metadata": {},
   "source": [
    "As in any MIS process, we first need to load and prepare data in a suitable graph format. For this tutorial, we will use the standard benchmark [DIMACS datasets](https://oeis.org/A265032/a265032.html) of various sizes and convert them to supported [Networkx](https://networkx.org/documentation/stable/index.html#) graph types."
   ]
  },
  {
   "cell_type": "code",
   "execution_count": null,
   "metadata": {},
   "outputs": [],
   "source": [
    "# Ignore warnings for this tutorial.\n",
    "import logging\n",
    "import os\n",
    "import sys\n",
    "\n",
    "logger = logging.getLogger()\n",
    "logger.disabled = True\n",
    "\n",
    "sys.stderr = open(os.devnull, 'w')"
   ]
  },
  {
   "cell_type": "code",
   "execution_count": null,
   "metadata": {},
   "outputs": [],
   "source": [
    "import networkx as nx\n",
    "\n",
    "# Create a new networkx graph instance to be populated with DIMACS data.\n",
    "graph = nx.Graph()\n",
    "\n",
    "\n",
    "with open(\"./datasets/dimacs/a265032_1tc.32.txt\", \"r\") as f:\n",
    "    for line in f:\n",
    "        if line.startswith(\"c\"):  # Comment line in DIMACS file.\n",
    "            continue\n",
    "        elif line.startswith(\"p\"):  # Problem definition, i.e. # nodes and edges.\n",
    "            _, _, num_nodes, num_edges = line.strip().split()\n",
    "            # Preset graph node labels as there might be isolated ones.\n",
    "            graph.add_nodes_from(range(1, int(num_nodes) + 1))\n",
    "\n",
    "        elif line.startswith(\"e\"):\n",
    "            _, node1, node2 = line.strip().split()\n",
    "            graph.add_edge(int(node1), int(node2))\n",
    "\n",
    "# Let's check what the graph looks like.\n",
    "print(graph)\n"
   ]
  },
  {
   "cell_type": "markdown",
   "metadata": {},
   "source": [
    "## Solving the MIS using Networkx's heuristic solver"
   ]
  },
  {
   "cell_type": "markdown",
   "metadata": {},
   "source": [
    "Let's first solve this instance of MIS using the standard classical and heuristic [MIS solver in Networkx](https://networkx.org/documentation/stable/reference/algorithms/generated/networkx.algorithms.approximation.clique.maximum_independent_set.html). From its inherent heuristic and non-deterministic nature, this solver does not guarantee optimality in solution finding."
   ]
  },
  {
   "cell_type": "code",
   "execution_count": null,
   "metadata": {},
   "outputs": [],
   "source": [
    "from mis.solver.solver import MISInstance\n",
    "from mis.pipeline.config import SolverConfig\n",
    "from mis import MISSolver\n",
    "# Define classical solver configuration\n",
    "from mis.shared.types import MethodType\n",
    "\n",
    "# Configure the library to use a classical (non-quantum) heuristic solver.\n",
    "config = SolverConfig(\n",
    "    method = MethodType.EAGER,\n",
    "    max_iterations=1\n",
    ")\n",
    "\n",
    "# Create the MIS instance\n",
    "instance = MISInstance(graph)\n",
    "\n",
    "# Run the solver and retrieve results.\n",
    "solver = MISSolver(instance, config)\n",
    "solutions = solver.solve().result()\n",
    "\n",
    "# Display results\n",
    "print(\"MIS solution:\", solutions[0].nodes)\n",
    "print(\"Solution cost:\", solutions[0].frequency)"
   ]
  },
  {
   "cell_type": "markdown",
   "metadata": {},
   "source": [
    "The solver returns a list of node labels of length 12 which is the unique solution so far (frequency of 1.)."
   ]
  },
  {
   "cell_type": "markdown",
   "metadata": {},
   "source": [
    "## Solving using the quantum SDK QuTiP"
   ]
  },
  {
   "cell_type": "markdown",
   "metadata": {},
   "source": [
    "In the previous section, we have used a non-quantum solver to resolve our instance of MIS. In this section, we'll use actually use a quantum algorithm. There are three steps to quantum algorithms:\n",
    "1. Converting the problem into a Register (the position of atoms in the quantum device) and a set of Pulses (the configuration of lasers on the quantum device)\n",
    "2. Actually running the Register and Pulse on the quantum device\n",
    "3. Extracting the results of quantum measurement on the quantum device into a solution to the original problem.\n",
    "\n",
    "In this library, all three steps are entrusted to _backends_. This library provides several backends, depending on your use. Since you may not have access to a quantum computer for step 2, we will use the `QutipBackend`. This is a simple backend that has the advantage of working on most computers, regardless of operating system or GPU."
   ]
  },
  {
   "cell_type": "code",
   "execution_count": null,
   "metadata": {},
   "outputs": [],
   "source": [
    "from mis.pipeline.backends import QutipBackend\n",
    "\n",
    "\n",
    "config = SolverConfig(\n",
    "    method = MethodType.EAGER,\n",
    "    backend = QutipBackend(),\n",
    "    max_iterations=1\n",
    ")\n",
    "\n",
    "# Create the MIS instance\n",
    "instance = MISInstance(graph)\n",
    "\n",
    "\n",
    "# Run the solver\n",
    "solver = MISSolver(instance, config)\n",
    "solutions = solver.solve().result()\n",
    "\n",
    "# Display results\n",
    "print(\"MIS solution:\", solutions[0].nodes)\n",
    "print(\"Solution cost:\", solutions[0].frequency)"
   ]
  },
  {
   "cell_type": "markdown",
   "metadata": {},
   "source": [
    "We can see that results are coherent with the solution from the classical solver above."
   ]
  },
  {
   "cell_type": "markdown",
   "metadata": {},
   "source": [
    "## Solving using Remote QPU backend\n",
    "\n",
    "This section illustrates the use of a QPU backend hosted on Pasqal's Cloud Platform. Provided that you are granted with credentials to access the platform, they should be passed to instantiate a `RemoteQPUBackend`."
   ]
  },
  {
   "cell_type": "code",
   "execution_count": null,
   "metadata": {},
   "outputs": [],
   "source": [
    "from mis.pipeline.backends import RemoteQPUBackend\n",
    "\n",
    "USERNAME=\"username\"\n",
    "PROJECT_ID=\"123\"\n",
    "PASSWORD=None\n",
    "\n",
    "if PASSWORD is not None:\n",
    "    config = SolverConfig(\n",
    "        method = MethodType.EAGER,\n",
    "        backend = RemoteQPUBackend(\n",
    "            username=USERNAME,\n",
    "            project_id=PROJECT_ID,\n",
    "            password=PASSWORD\n",
    "        ),\n",
    "        max_iterations=1\n",
    "    )\n",
    "\n",
    "    # Create the MIS instance\n",
    "    instance = MISInstance(graph)\n",
    "\n",
    "    # Run the solver\n",
    "    solver = MISSolver(instance, config)\n",
    "    solutions = solver.solve().result()\n",
    "\n",
    "    # Display results\n",
    "    print(\"MIS solution:\", solutions[0].nodes)\n",
    "    print(\"Solution cost:\", solutions[0].frequency)"
   ]
  },
  {
   "cell_type": "code",
   "execution_count": null,
   "metadata": {},
   "outputs": [],
   "source": []
  }
 ],
 "metadata": {
  "kernelspec": {
   "display_name": "Python 3",
   "language": "python",
   "name": "python3"
  },
  "language_info": {
   "codemirror_mode": {
    "name": "ipython",
    "version": 3
   },
   "file_extension": ".py",
   "mimetype": "text/x-python",
   "name": "python",
   "nbconvert_exporter": "python",
   "pygments_lexer": "ipython3",
   "version": "3.10.10"
  }
 },
 "nbformat": 4,
 "nbformat_minor": 4
}
